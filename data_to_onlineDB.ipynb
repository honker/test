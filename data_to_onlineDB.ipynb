{
 "cells": [
  {
   "cell_type": "code",
   "execution_count": 52,
   "metadata": {},
   "outputs": [],
   "source": [
    "from sqlalchemy import * \n",
    "from DBEngines import engineName ### local file\n",
    "from sqlalchemy.sql import table, column, select, update, insert\n",
    "from sqlalchemy.orm import sessionmaker,mapper\n",
    "import pandas as pd\n",
    "import time\n",
    "import datetime as dt\n",
    "from datetime import timedelta,datetime,date\n",
    "from functools import reduce\n",
    "import sys\n",
    "import json\n",
    "import numpy as np\n",
    "import traceback\n",
    "from ErrorMail import sendmail  ### local file\n",
    "from FuncTimer import fn_timer  ### local file\n",
    "from retry import retry\n",
    "\n",
    "engineShiXiong06 = engineName('engineShiXiong06')\n",
    "engineShopstat = engineName('engineShopstat')"
   ]
  },
  {
   "cell_type": "code",
   "execution_count": 53,
   "metadata": {
    "scrolled": true
   },
   "outputs": [
    {
     "name": "stdout",
     "output_type": "stream",
     "text": [
      "select id,time,app,page,os,uv_count,uv_total_hour,uv_total_day,uv_total_week,uv_total_month from shop_view where time>=1523340000 and time<1523345760 ;\n",
      "2018-04-10 15:41:59,789 INFO sqlalchemy.engine.base.Engine SHOW VARIABLES LIKE 'sql_mode'\n",
      "2018-04-10 15:41:59,790 INFO sqlalchemy.engine.base.Engine {}\n",
      "2018-04-10 15:41:59,796 INFO sqlalchemy.engine.base.Engine SELECT DATABASE()\n",
      "2018-04-10 15:41:59,797 INFO sqlalchemy.engine.base.Engine {}\n",
      "2018-04-10 15:41:59,799 INFO sqlalchemy.engine.base.Engine show collation where `Charset` = 'utf8' and `Collation` = 'utf8_bin'\n",
      "2018-04-10 15:41:59,800 INFO sqlalchemy.engine.base.Engine {}\n",
      "2018-04-10 15:41:59,803 INFO sqlalchemy.engine.base.Engine SELECT CAST('test plain returns' AS CHAR(60)) AS anon_1\n",
      "2018-04-10 15:41:59,804 INFO sqlalchemy.engine.base.Engine {}\n",
      "2018-04-10 15:41:59,806 INFO sqlalchemy.engine.base.Engine SELECT CAST('test unicode returns' AS CHAR(60)) AS anon_1\n",
      "2018-04-10 15:41:59,806 INFO sqlalchemy.engine.base.Engine {}\n",
      "2018-04-10 15:41:59,808 INFO sqlalchemy.engine.base.Engine SELECT CAST('test collated returns' AS CHAR CHARACTER SET utf8) COLLATE utf8_bin AS anon_1\n",
      "2018-04-10 15:41:59,808 INFO sqlalchemy.engine.base.Engine {}\n",
      "2018-04-10 15:41:59,810 INFO sqlalchemy.engine.base.Engine DESCRIBE `select id,time,app,page,os,uv_count,uv_total_hour,uv_total_day,uv_total_week,uv_total_month from shop_view where time>=1523340000 and time<1523345760 ;`\n",
      "2018-04-10 15:41:59,811 INFO sqlalchemy.engine.base.Engine {}\n",
      "2018-04-10 15:41:59,813 INFO sqlalchemy.engine.base.Engine ROLLBACK\n",
      "2018-04-10 15:41:59,814 INFO sqlalchemy.engine.base.Engine select id,time,app,page,os,uv_count,uv_total_hour,uv_total_day,uv_total_week,uv_total_month from shop_view where time>=1523340000 and time<1523345760 ;\n",
      "2018-04-10 15:41:59,815 INFO sqlalchemy.engine.base.Engine {}\n"
     ]
    }
   ],
   "source": [
    "#@fn_timer\n",
    "## 4-10 14:00 \n",
    "timeRange = [1523340000,1523345760]\n",
    "sql = 'select id,time,app,page,os,uv_count,uv_total_hour,uv_total_day,uv_total_week,uv_total_month from shop_view where time>={i[0]} and time<{i[1]} ;'.format(i=timeRange)\n",
    "print(sql)\n",
    "dataInTestDB = pd.read_sql(sql,engineShiXiong06,chunksize=100000)"
   ]
  },
  {
   "cell_type": "code",
   "execution_count": 54,
   "metadata": {},
   "outputs": [
    {
     "name": "stdout",
     "output_type": "stream",
     "text": [
      "select id,time,app,page,os from shop_view where time>=1523340000 and time<1523345760;\n"
     ]
    }
   ],
   "source": [
    "## 找ID\n",
    "sql = 'select id,time,app,page,os from shop_view where time>={i[0]} and time<{i[1]};'.format(i=timeRange)\n",
    "print(sql)\n",
    "IDtestDB = pd.read_sql(sql,engineShopstat)"
   ]
  },
  {
   "cell_type": "code",
   "execution_count": 55,
   "metadata": {},
   "outputs": [],
   "source": [
    "## update ,需要先找出在线上库中的 id， 匹配后再update\n",
    "@fn_timer\n",
    "def updateToMysql(finalDataDF):\n",
    "    class ShopView(object):\n",
    "        def __init__(self,id,uv_total_day,uv_total_week,uv_total_month,uv_total_hour,uv_count):\n",
    "            \n",
    "            self.id=id\n",
    "            self.uv_total_day=uv_total_day\n",
    "            self.uv_total_week=uv_total_week\n",
    "            self.uv_total_month=uv_total_month\n",
    "            self.uv_total_hour=uv_total_hour\n",
    "            self.uv_count=uv_count\n",
    "\n",
    "    metadata = MetaData(bind = engineShopstat)\n",
    "    shop_view = Table('shop_view', metadata, autoload=True)\n",
    "    mapper(ShopView,shop_view)\n",
    "    \n",
    "    Session = sessionmaker(bind = engineShopstat)\n",
    "    session = Session()\n",
    "    \n",
    "    finalDataDict=finalDataDF.to_dict('record')\n",
    "    print('update begins')\n",
    "    session.bulk_update_mappings(ShopView,finalDataDict)\n",
    "    session.commit()\n",
    "    session.close()\n",
    "    \n",
    "    print(\"%d records updated over~\" %len(finalDataDict))"
   ]
  },
  {
   "cell_type": "code",
   "execution_count": 56,
   "metadata": {
    "scrolled": false
   },
   "outputs": [
    {
     "name": "stdout",
     "output_type": "stream",
     "text": [
      "0   uv_count uv_total_hour uv_total_day uv_total_week uv_total_month       id\n",
      "0     3822         72316       526467             0              0  8049941\n",
      "1     2485         41775       309087             0              0  8049942\n",
      "update begins\n",
      "7296 records updated over~\n",
      "\n",
      "函数 updateToMysql 运行用时: 16.83657670021057 seconds\n",
      "7296 updated over\n",
      "all updated over, 7296 条\n"
     ]
    }
   ],
   "source": [
    "### update\n",
    "i=0\n",
    "for chunk in dataInTestDB:\n",
    "    chunk.drop('id',axis=1,inplace=True)\n",
    "    chunk.fillna(0,inplace=True)\n",
    "    datas= pd.merge(chunk,IDtestDB,how='left',on=['time','app','os','page'])  \n",
    "    datas.drop(['time','app','os','page'],axis=1,inplace=True)\n",
    "    cols = ['id','uv_count','uv_total_hour','uv_total_day','uv_total_week','uv_total_month']\n",
    "    for col in cols:\n",
    "        datas[col]=datas[col].map(lambda x:str(int(x)))\n",
    "        \n",
    "    #datas[cols] = datas[cols].apply(pd.to_numeric, downcast='unsigned', axis=1)\n",
    "    print(i,datas[:2])\n",
    "    \n",
    "    updateToMysql(datas)\n",
    "    print(len(datas),'updated over')\n",
    "    \n",
    "    i+=len(datas)\n",
    "print('all updated over, %d 条' %i)\n"
   ]
  },
  {
   "cell_type": "code",
   "execution_count": null,
   "metadata": {},
   "outputs": [],
   "source": []
  },
  {
   "cell_type": "code",
   "execution_count": null,
   "metadata": {},
   "outputs": [],
   "source": [
    "### insert\n",
    "i=0\n",
    "for chunk in dataInTestDB:\n",
    "    chunk.to_sql(name='shop_view',con=engineShopstat,if_exists='append',index=False)\n",
    "    print(len(chunk),'insert over')\n",
    "    i+=len(chunk)\n",
    "print('all insert over, %d 条' %i)"
   ]
  },
  {
   "cell_type": "code",
   "execution_count": null,
   "metadata": {},
   "outputs": [],
   "source": []
  },
  {
   "cell_type": "code",
   "execution_count": 9,
   "metadata": {},
   "outputs": [
    {
     "data": {
      "text/plain": [
       "24.0"
      ]
     },
     "execution_count": 9,
     "metadata": {},
     "output_type": "execute_result"
    }
   ],
   "source": [
    "0.6*100*1440/(3600)"
   ]
  },
  {
   "cell_type": "code",
   "execution_count": 10,
   "metadata": {},
   "outputs": [
    {
     "data": {
      "text/plain": [
       "1.2966666666666666"
      ]
     },
     "execution_count": 10,
     "metadata": {},
     "output_type": "execute_result"
    }
   ],
   "source": [
    "389*12/3600"
   ]
  },
  {
   "cell_type": "code",
   "execution_count": null,
   "metadata": {},
   "outputs": [],
   "source": []
  },
  {
   "cell_type": "code",
   "execution_count": null,
   "metadata": {},
   "outputs": [],
   "source": []
  },
  {
   "cell_type": "code",
   "execution_count": null,
   "metadata": {},
   "outputs": [],
   "source": []
  },
  {
   "cell_type": "code",
   "execution_count": 41,
   "metadata": {},
   "outputs": [
    {
     "name": "stdout",
     "output_type": "stream",
     "text": [
      "select * from shop_view where time>=1522512000 and time<1522598400 ;\n"
     ]
    }
   ],
   "source": [
    "#@fn_timer\n",
    "\n",
    "## 4/1的数load回测试库\n",
    "timeRange = [1522512000,1522598400]\n",
    "sql = 'select * from shop_view where time>={i[0]} and time<{i[1]} ;'.format(i=timeRange)\n",
    "print(sql)\n",
    "dataInOnline = pd.read_sql(sql,engineShopstat)"
   ]
  },
  {
   "cell_type": "code",
   "execution_count": 49,
   "metadata": {},
   "outputs": [
    {
     "ename": "ValueError",
     "evalue": "labels ['id'] not contained in axis",
     "output_type": "error",
     "traceback": [
      "\u001b[0;31m---------------------------------------------------------------------------\u001b[0m",
      "\u001b[0;31mValueError\u001b[0m                                Traceback (most recent call last)",
      "\u001b[0;32m<ipython-input-49-4ee295e33dae>\u001b[0m in \u001b[0;36m<module>\u001b[0;34m()\u001b[0m\n\u001b[0;32m----> 1\u001b[0;31m \u001b[0mdataInOnline\u001b[0m\u001b[0;34m.\u001b[0m\u001b[0mdrop\u001b[0m\u001b[0;34m(\u001b[0m\u001b[0;34m'id'\u001b[0m\u001b[0;34m,\u001b[0m\u001b[0maxis\u001b[0m\u001b[0;34m=\u001b[0m\u001b[0;36m1\u001b[0m\u001b[0;34m,\u001b[0m\u001b[0minplace\u001b[0m\u001b[0;34m=\u001b[0m\u001b[0;32mTrue\u001b[0m\u001b[0;34m)\u001b[0m\u001b[0;34m\u001b[0m\u001b[0m\n\u001b[0m",
      "\u001b[0;32m~/.pyenv/versions/3.6.4/lib/python3.6/site-packages/pandas/core/generic.py\u001b[0m in \u001b[0;36mdrop\u001b[0;34m(self, labels, axis, level, inplace, errors)\u001b[0m\n\u001b[1;32m   2159\u001b[0m                 \u001b[0mnew_axis\u001b[0m \u001b[0;34m=\u001b[0m \u001b[0maxis\u001b[0m\u001b[0;34m.\u001b[0m\u001b[0mdrop\u001b[0m\u001b[0;34m(\u001b[0m\u001b[0mlabels\u001b[0m\u001b[0;34m,\u001b[0m \u001b[0mlevel\u001b[0m\u001b[0;34m=\u001b[0m\u001b[0mlevel\u001b[0m\u001b[0;34m,\u001b[0m \u001b[0merrors\u001b[0m\u001b[0;34m=\u001b[0m\u001b[0merrors\u001b[0m\u001b[0;34m)\u001b[0m\u001b[0;34m\u001b[0m\u001b[0m\n\u001b[1;32m   2160\u001b[0m             \u001b[0;32melse\u001b[0m\u001b[0;34m:\u001b[0m\u001b[0;34m\u001b[0m\u001b[0m\n\u001b[0;32m-> 2161\u001b[0;31m                 \u001b[0mnew_axis\u001b[0m \u001b[0;34m=\u001b[0m \u001b[0maxis\u001b[0m\u001b[0;34m.\u001b[0m\u001b[0mdrop\u001b[0m\u001b[0;34m(\u001b[0m\u001b[0mlabels\u001b[0m\u001b[0;34m,\u001b[0m \u001b[0merrors\u001b[0m\u001b[0;34m=\u001b[0m\u001b[0merrors\u001b[0m\u001b[0;34m)\u001b[0m\u001b[0;34m\u001b[0m\u001b[0m\n\u001b[0m\u001b[1;32m   2162\u001b[0m             \u001b[0mdropped\u001b[0m \u001b[0;34m=\u001b[0m \u001b[0mself\u001b[0m\u001b[0;34m.\u001b[0m\u001b[0mreindex\u001b[0m\u001b[0;34m(\u001b[0m\u001b[0;34m**\u001b[0m\u001b[0;34m{\u001b[0m\u001b[0maxis_name\u001b[0m\u001b[0;34m:\u001b[0m \u001b[0mnew_axis\u001b[0m\u001b[0;34m}\u001b[0m\u001b[0;34m)\u001b[0m\u001b[0;34m\u001b[0m\u001b[0m\n\u001b[1;32m   2163\u001b[0m             \u001b[0;32mtry\u001b[0m\u001b[0;34m:\u001b[0m\u001b[0;34m\u001b[0m\u001b[0m\n",
      "\u001b[0;32m~/.pyenv/versions/3.6.4/lib/python3.6/site-packages/pandas/core/indexes/base.py\u001b[0m in \u001b[0;36mdrop\u001b[0;34m(self, labels, errors)\u001b[0m\n\u001b[1;32m   3622\u001b[0m             \u001b[0;32mif\u001b[0m \u001b[0merrors\u001b[0m \u001b[0;34m!=\u001b[0m \u001b[0;34m'ignore'\u001b[0m\u001b[0;34m:\u001b[0m\u001b[0;34m\u001b[0m\u001b[0m\n\u001b[1;32m   3623\u001b[0m                 raise ValueError('labels %s not contained in axis' %\n\u001b[0;32m-> 3624\u001b[0;31m                                  labels[mask])\n\u001b[0m\u001b[1;32m   3625\u001b[0m             \u001b[0mindexer\u001b[0m \u001b[0;34m=\u001b[0m \u001b[0mindexer\u001b[0m\u001b[0;34m[\u001b[0m\u001b[0;34m~\u001b[0m\u001b[0mmask\u001b[0m\u001b[0;34m]\u001b[0m\u001b[0;34m\u001b[0m\u001b[0m\n\u001b[1;32m   3626\u001b[0m         \u001b[0;32mreturn\u001b[0m \u001b[0mself\u001b[0m\u001b[0;34m.\u001b[0m\u001b[0mdelete\u001b[0m\u001b[0;34m(\u001b[0m\u001b[0mindexer\u001b[0m\u001b[0;34m)\u001b[0m\u001b[0;34m\u001b[0m\u001b[0m\n",
      "\u001b[0;31mValueError\u001b[0m: labels ['id'] not contained in axis"
     ]
    }
   ],
   "source": []
  },
  {
   "cell_type": "code",
   "execution_count": 4,
   "metadata": {},
   "outputs": [],
   "source": [
    "## update ,需要先找出在线上库中的 id， 匹配后再update\n",
    "@fn_timer\n",
    "def updateToMysql(finalDataDF):\n",
    "    class ShopView(object):\n",
    "        def __init__(self,id,time,app,os,page,uv_total_day,uv_total_week,uv_total_month,uv_total_hour,uv_count,\\\n",
    "                     pv_count,ud_youpin_newuser,uv_new_total_week,uv_new_total_day,uv_new_count,uv_slient,\\\n",
    "                     uv_total_live1_day,uv_total_live3_day,uv_total_live7_day,submit_count,so_count,su_count,submit_gcount,\\\n",
    "                     su_total_month,su_total_week,su_total_day,su_total_hour,sale_count,po_count,pu_total_month,pu_total_week,\\\n",
    "                     pu_total_day,pu_total_hour,pu_count,pay_gcount,pun_total,pun_count,per_pay_day,per_pay_week,per_trans_day,\\\n",
    "                     per_trans_week,sales_day,sales_week,sales_month,sales_year,submit_sales_day,submit_sales_week,submit_sales_month,\\\n",
    "                     submit_sales_year):\n",
    "            \n",
    "            self.id=id\n",
    "            self.time=time\n",
    "            self.app=app\n",
    "            self.os=os\n",
    "            self.page=page\n",
    "            self.uv_total_day=uv_total_day\n",
    "            self.uv_total_week=uv_total_week\n",
    "            self.uv_total_month=uv_total_month\n",
    "            self.uv_total_hour=uv_total_hour\n",
    "            self.uv_count=uv_count\n",
    "            self.pv_count=pv_count\n",
    "            self.ud_youpin_newuser=ud_youpin_newuser\n",
    "            self.uv_new_total_week=uv_new_total_week\n",
    "            self.uv_new_total_day=uv_new_total_day\n",
    "            self.uv_new_count=uv_new_count\n",
    "            self.uv_slient=uv_slient\n",
    "            self.uv_total_live1_day=uv_total_live1_day\n",
    "            self.uv_total_live3_day=uv_total_live3_day\n",
    "            self.uv_total_live7_day=uv_total_live7_day\n",
    "            self.submit_count=submit_count\n",
    "            self.so_count=so_count\n",
    "            self.su_count=su_count\n",
    "            self.submit_gcount=submit_gcount\n",
    "            self.su_total_month=su_total_month\n",
    "            self.su_total_week=su_total_week\n",
    "            self.su_total_day=su_total_day\n",
    "            self.su_total_hour=su_total_hour\n",
    "            self.sale_count=sale_count\n",
    "            self.po_count=po_count\n",
    "            self.pu_total_month=pu_total_month\n",
    "            self.pu_total_week=pu_total_week\n",
    "            self.pu_total_day=pu_total_day\n",
    "            self.pu_total_hour=pu_total_hour\n",
    "            self.pu_count=pu_count\n",
    "            self.pay_gcount=pay_gcount\n",
    "            self.pun_total=pun_total\n",
    "            self.pun_count=pun_count\n",
    "            self.per_pay_day=per_pay_day\n",
    "            self.per_pay_week=per_pay_week\n",
    "            self.per_trans_day=per_trans_day\n",
    "            self.per_trans_week=per_trans_week\n",
    "            self.sales_day=sales_day\n",
    "            self.sales_week=sales_week\n",
    "            self.sales_month=sales_month\n",
    "            self.sales_year=sales_year\n",
    "            self.submit_sales_day=submit_sales_day\n",
    "            self.submit_sales_week=submit_sales_week\n",
    "            self.submit_sales_month=submit_sales_month\n",
    "            self.submit_sales_year=submit_sales_year\n",
    "\n",
    "    metadata = MetaData(bind = engineShiXiong06)\n",
    "    shop_view = Table('shop_view', metadata, autoload=True)\n",
    "    mapper(ShopView,shop_view)\n",
    "    \n",
    "    Session = sessionmaker(bind = engineShiXiong06)\n",
    "    session = Session()\n",
    "    \n",
    "    finalDataDict=finalDataDF.to_dict('record') \n",
    "    session.bulk_update_mappings(ShopView,finalDataDict)\n",
    "    session.commit()\n",
    "    session.close()\n",
    "    \n",
    "    print(\"%d records updated over~\" %len(finalDataDict))"
   ]
  },
  {
   "cell_type": "code",
   "execution_count": 50,
   "metadata": {},
   "outputs": [],
   "source": [
    "dataToTestDB = pd.merge(dataInOnline,IDtestDB,how='right',on=['time','app','os','page']) "
   ]
  },
  {
   "cell_type": "code",
   "execution_count": 54,
   "metadata": {
    "scrolled": true
   },
   "outputs": [
    {
     "name": "stdout",
     "output_type": "stream",
     "text": [
      "2018-04-03 19:09:42,069 INFO sqlalchemy.engine.base.Engine SHOW CREATE TABLE `shop_view`\n",
      "2018-04-03 19:09:42,072 INFO sqlalchemy.engine.base.Engine {}\n",
      "109440 records updated over~\n",
      "\n",
      "函数 updateToMysql 运行用时: 6.569838523864746 seconds\n"
     ]
    }
   ],
   "source": [
    "\n",
    "updateToMysql(dataToTestDB)\n"
   ]
  },
  {
   "cell_type": "code",
   "execution_count": 3,
   "metadata": {},
   "outputs": [
    {
     "data": {
      "text/plain": [
       "2592000"
      ]
     },
     "execution_count": 3,
     "metadata": {},
     "output_type": "execute_result"
    }
   ],
   "source": [
    "3600*24*30"
   ]
  },
  {
   "cell_type": "code",
   "execution_count": null,
   "metadata": {},
   "outputs": [],
   "source": []
  }
 ],
 "metadata": {
  "kernelspec": {
   "display_name": "Python 3",
   "language": "python",
   "name": "python3"
  },
  "language_info": {
   "codemirror_mode": {
    "name": "ipython",
    "version": 3
   },
   "file_extension": ".py",
   "mimetype": "text/x-python",
   "name": "python",
   "nbconvert_exporter": "python",
   "pygments_lexer": "ipython3",
   "version": "3.6.4"
  }
 },
 "nbformat": 4,
 "nbformat_minor": 2
}
